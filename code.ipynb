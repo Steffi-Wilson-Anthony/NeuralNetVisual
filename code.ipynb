{
 "cells": [
  {
   "cell_type": "markdown",
   "metadata": {
    "colab_type": "text",
    "id": "HBIKezc7_xOp"
   },
   "source": [
    "### Import Libraries"
   ]
  },
  {
   "cell_type": "code",
   "execution_count": 1,
   "metadata": {},
   "outputs": [],
   "source": [
    "import tensorflow as tf\n",
    "import numpy as np\n",
    "import matplotlib.pyplot as plt"
   ]
  },
  {
   "cell_type": "markdown",
   "metadata": {},
   "source": [
    "### Download data"
   ]
  },
  {
   "cell_type": "code",
   "execution_count": 2,
   "metadata": {},
   "outputs": [],
   "source": [
    "(x_train, y_train), (x_test, y_test) = tf.keras.datasets.mnist.load_data()"
   ]
  },
  {
   "cell_type": "code",
   "execution_count": 3,
   "metadata": {},
   "outputs": [
    {
     "data": {
      "image/png": "[encoded data removed]",
      "text/plain": [
       "<Figure size 1000x1000 with 16 Axes>"
      ]
     },
     "metadata": {},
     "output_type": "display_data"
    }
   ],
   "source": [
    "plt.figure(figsize=(10,10))\n",
    "\n",
    "for i in range(0, 16):\n",
    "    plt.subplot(4, 4, i+1)\n",
    "    plt.imshow(x_train[i], cmap='binary')\n",
    "    plt.xlabel(str(y_train[i]))\n",
    "    plt.xticks([])\n",
    "    plt.yticks([])\n",
    "plt.show()"
   ]
  },
  {
   "cell_type": "markdown",
   "metadata": {},
   "source": [
    "### Normalize Data"
   ]
  },
  {
   "cell_type": "code",
   "execution_count": 4,
   "metadata": {},
   "outputs": [
    {
     "data": {
      "text/plain": [
       "(60000, 28, 28)"
      ]
     },
     "execution_count": 4,
     "metadata": {},
     "output_type": "execute_result"
    }
   ],
   "source": [
    "x_train.shape"
   ]
  },
  {
   "cell_type": "code",
   "execution_count": 5,
   "metadata": {},
   "outputs": [
    {
     "data": {
      "text/plain": [
       "(10000, 28, 28)"
      ]
     },
     "execution_count": 5,
     "metadata": {},
     "output_type": "execute_result"
    }
   ],
   "source": [
    "x_test.shape"
   ]
  },
  {
   "cell_type": "code",
   "execution_count": 6,
   "metadata": {},
   "outputs": [],
   "source": [
    "x_train = np.reshape(x_train, (60000, 28*28))\n",
    "x_test = np.reshape(x_test, (10000, 28*28))\n",
    "\n",
    "x_train = x_train / 255.\n",
    "x_test = x_test / 255."
   ]
  },
  {
   "cell_type": "code",
   "execution_count": 7,
   "metadata": {},
   "outputs": [
    {
     "data": {
      "text/plain": [
       "(784,)"
      ]
     },
     "execution_count": 7,
     "metadata": {},
     "output_type": "execute_result"
    }
   ],
   "source": [
    "x_train[0].shape"
   ]
  },
  {
   "cell_type": "markdown",
   "metadata": {},
   "source": [
    "### CNN Model"
   ]
  },
  {
   "cell_type": "code",
   "execution_count": 8,
   "metadata": {},
   "outputs": [],
   "source": [
    "model = tf.keras.models.Sequential([\n",
    "    tf.keras.layers.Dense(32, activation='sigmoid', input_shape=(784,)),\n",
    "    tf.keras.layers.Dense(32, activation='sigmoid'),\n",
    "    tf.keras.layers.Dense(10, activation='softmax')\n",
    "])\n",
    "\n",
    "model.compile(\n",
    "    loss='sparse_categorical_crossentropy',\n",
    "    optimizer='adam',\n",
    "    metrics=['accuracy']\n",
    ")"
   ]
  },
  {
   "cell_type": "code",
   "execution_count": 9,
   "metadata": {},
   "outputs": [
    {
     "name": "stdout",
     "output_type": "stream",
     "text": [
      "Epoch 1/20\n",
      "59/59 - 3s - loss: 2.2271 - accuracy: 0.3017 - val_loss: 2.0303 - val_accuracy: 0.5510 - 3s/epoch - 44ms/step\n",
      "Epoch 2/20\n",
      "59/59 - 1s - loss: 1.8577 - accuracy: 0.6435 - val_loss: 1.6572 - val_accuracy: 0.7158 - 633ms/epoch - 11ms/step\n",
      "Epoch 3/20\n",
      "59/59 - 1s - loss: 1.4878 - accuracy: 0.7467 - val_loss: 1.3016 - val_accuracy: 0.7906 - 626ms/epoch - 11ms/step\n",
      "Epoch 4/20\n",
      "59/59 - 1s - loss: 1.1660 - accuracy: 0.8105 - val_loss: 1.0170 - val_accuracy: 0.8400 - 626ms/epoch - 11ms/step\n",
      "Epoch 5/20\n",
      "59/59 - 1s - loss: 0.9143 - accuracy: 0.8512 - val_loss: 0.8007 - val_accuracy: 0.8706 - 614ms/epoch - 10ms/step\n",
      "Epoch 6/20\n",
      "59/59 - 1s - loss: 0.7292 - accuracy: 0.8740 - val_loss: 0.6474 - val_accuracy: 0.8868 - 596ms/epoch - 10ms/step\n",
      "Epoch 7/20\n",
      "59/59 - 1s - loss: 0.6002 - accuracy: 0.8871 - val_loss: 0.5424 - val_accuracy: 0.8968 - 591ms/epoch - 10ms/step\n",
      "Epoch 8/20\n",
      "59/59 - 1s - loss: 0.5111 - accuracy: 0.8961 - val_loss: 0.4700 - val_accuracy: 0.9025 - 607ms/epoch - 10ms/step\n",
      "Epoch 9/20\n",
      "59/59 - 1s - loss: 0.4483 - accuracy: 0.9025 - val_loss: 0.4184 - val_accuracy: 0.9072 - 626ms/epoch - 11ms/step\n",
      "Epoch 10/20\n",
      "59/59 - 1s - loss: 0.4027 - accuracy: 0.9080 - val_loss: 0.3813 - val_accuracy: 0.9119 - 617ms/epoch - 10ms/step\n",
      "Epoch 11/20\n",
      "59/59 - 1s - loss: 0.3681 - accuracy: 0.9132 - val_loss: 0.3528 - val_accuracy: 0.9156 - 607ms/epoch - 10ms/step\n",
      "Epoch 12/20\n",
      "59/59 - 1s - loss: 0.3409 - accuracy: 0.9173 - val_loss: 0.3303 - val_accuracy: 0.9177 - 616ms/epoch - 10ms/step\n",
      "Epoch 13/20\n",
      "59/59 - 1s - loss: 0.3186 - accuracy: 0.9208 - val_loss: 0.3115 - val_accuracy: 0.9204 - 609ms/epoch - 10ms/step\n",
      "Epoch 14/20\n",
      "59/59 - 1s - loss: 0.3003 - accuracy: 0.9244 - val_loss: 0.2959 - val_accuracy: 0.9235 - 616ms/epoch - 10ms/step\n",
      "Epoch 15/20\n",
      "59/59 - 1s - loss: 0.2845 - accuracy: 0.9273 - val_loss: 0.2822 - val_accuracy: 0.9269 - 623ms/epoch - 11ms/step\n",
      "Epoch 16/20\n",
      "59/59 - 1s - loss: 0.2707 - accuracy: 0.9301 - val_loss: 0.2707 - val_accuracy: 0.9289 - 611ms/epoch - 10ms/step\n",
      "Epoch 17/20\n",
      "59/59 - 1s - loss: 0.2584 - accuracy: 0.9329 - val_loss: 0.2602 - val_accuracy: 0.9315 - 610ms/epoch - 10ms/step\n",
      "Epoch 18/20\n",
      "59/59 - 1s - loss: 0.2476 - accuracy: 0.9351 - val_loss: 0.2502 - val_accuracy: 0.9329 - 614ms/epoch - 10ms/step\n",
      "Epoch 19/20\n",
      "59/59 - 1s - loss: 0.2376 - accuracy: 0.9375 - val_loss: 0.2418 - val_accuracy: 0.9346 - 615ms/epoch - 10ms/step\n",
      "Epoch 20/20\n",
      "59/59 - 1s - loss: 0.2284 - accuracy: 0.9399 - val_loss: 0.2337 - val_accuracy: 0.9359 - 626ms/epoch - 11ms/step\n"
     ]
    }
   ],
   "source": [
    "_ = model.fit(\n",
    "    x_train, y_train,\n",
    "    validation_data=(x_test, y_test),\n",
    "    epochs=20, batch_size=1024,\n",
    "    verbose=2\n",
    ")"
   ]
  },
  {
   "cell_type": "markdown",
   "metadata": {},
   "source": [
    "### Saving the model"
   ]
  },
  {
   "cell_type": "code",
   "execution_count": 10,
   "metadata": {},
   "outputs": [],
   "source": [
    "model.save('model.h5')"
   ]
  },
  {
   "cell_type": "markdown",
   "metadata": {},
   "source": [
    "### Creating a model server"
   ]
  },
  {
   "cell_type": "code",
   "execution_count": 25,
   "metadata": {},
   "outputs": [
    {
     "name": "stdout",
     "output_type": "stream",
     "text": [
      "Overwriting ml_server.py\n"
     ]
    }
   ],
   "source": [
    "%%writefile ml_server.py\n",
    "\n",
    "import json\n",
    "import tensorflow as tf\n",
    "import numpy as np\n",
    "import random\n",
    "\n",
    "from flask import Flask, request\n",
    "\n",
    "app = Flask(__name__)\n",
    "\n",
    "model = tf.keras.models.load_model('model.h5')\n",
    "feature_model = tf.keras.models.Model(\n",
    "    model.inputs,\n",
    "    [layer.output for layer in model.layers]\n",
    ")\n",
    "\n",
    "_, (x_test, _) = tf.keras.datasets.mnist.load_data()\n",
    "x_test = x_test / 255.\n",
    "\n",
    "def get_prediction():\n",
    "    index = np.random.choice(x_test.shape[0])\n",
    "    image = x_test[index, :, :]\n",
    "    image_arr = np.reshape(image, (1, 784))\n",
    "    return feature_model.predict(image_arr), image\n",
    "\n",
    "@app.route('/', methods=['GET', 'POST'])\n",
    "def index():\n",
    "    if request.method == 'POST':\n",
    "        preds, image = get_prediction()\n",
    "        final_preds = [p.tolist() for p in preds]\n",
    "        return json.dumps({\n",
    "            'prediction': final_preds,\n",
    "            'image': image.tolist()\n",
    "        })\n",
    "    return 'Welcome to model server!'\n",
    "\n",
    "if __name__ == '__main__':\n",
    "    app.run()"
   ]
  },
  {
   "cell_type": "code",
   "execution_count": 8,
   "metadata": {},
   "outputs": [
    {
     "name": "stdout",
     "output_type": "stream",
     "text": [
      "Overwriting app.py\n"
     ]
    }
   ],
   "source": [
    "%%writefile app.py\n",
    "\n",
    "import streamlit as st\n",
    "from collections.abc import Iterable\n",
    "import json\n",
    "import requests\n",
    "import matplotlib.pyplot as plt\n",
    "import numpy as np\n",
    "\n",
    "URI = 'http://127.0.0.1:5000'\n",
    "\n",
    "st.title('Neural Network Visualizer')\n",
    "st.sidebar.markdown('## Input Image')\n",
    "\n",
    "if st.button('Get random prediction'):\n",
    "    response = requests.post(URI, data={})\n",
    "    response = json.loads(response.text)\n",
    "    preds = response.get('prediction')\n",
    "    image = response.get('image')\n",
    "    image = np.reshape(image, (28, 28))\n",
    "    \n",
    "    st.sidebar.image(image, width=150)\n",
    "    \n",
    "    for layer, p in enumerate(preds):\n",
    "        numbers = np.squeeze(np.array(p))\n",
    "        fig = plt.figure(figsize=(32,4))\n",
    "        \n",
    "        if layer==2:\n",
    "            row = 1\n",
    "            col = 10\n",
    "        else:\n",
    "            row = 2\n",
    "            col = 16\n",
    "        for i, number in enumerate(numbers):\n",
    "            ax = plt.subplot(row, col, i+1)\n",
    "            ax.imshow(number * np.ones((8, 8, 3)).astype('float32'))\n",
    "            ax.set_xticks([])\n",
    "            ax.set_yticks([])\n",
    "            \n",
    "            if layer==2:\n",
    "                ax.set_xlabel(str(i), fontsize=40)\n",
    "        plt.subplots_adjust(wspace=0.05, hspace=0.05)\n",
    "        plt.tight_layout()\n",
    "        st.text('Layer {}'.format(layer+1))\n",
    "        st.pyplot(fig)"
   ]
  },
  {
   "cell_type": "code",
   "execution_count": null,
   "metadata": {},
   "outputs": [],
   "source": []
  }
 ],
 "metadata": {
  "accelerator": "GPU",
  "colab": {
   "collapsed_sections": [],
   "name": "facial_detection.ipynb",
   "provenance": [],
   "toc_visible": true
  },
  "kernelspec": {
   "display_name": "Python 3 (ipykernel)",
   "language": "python",
   "name": "python3"
  },
  "language_info": {
   "codemirror_mode": {
    "name": "ipython",
    "version": 3
   },
   "file_extension": ".py",
   "mimetype": "text/x-python",
   "name": "python",
   "nbconvert_exporter": "python",
   "pygments_lexer": "ipython3",
   "version": "3.11.0"
  }
 },
 "nbformat": 4,
 "nbformat_minor": 1
}
